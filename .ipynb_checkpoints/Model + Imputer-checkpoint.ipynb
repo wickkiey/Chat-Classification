{
 "cells": [
  {
   "cell_type": "code",
   "execution_count": 1,
   "metadata": {},
   "outputs": [],
   "source": [
    "import pandas as pd \n",
    "import numpy as np \n",
    "import json\n",
    "import re\n",
    "from functools import reduce"
   ]
  },
  {
   "cell_type": "code",
   "execution_count": 113,
   "metadata": {},
   "outputs": [],
   "source": [
    "from sklearn.feature_extraction.text import TfidfTransformer, CountVectorizer, TfidfVectorizer\n",
    "from sklearn.naive_bayes import MultinomialNB\n",
    "from sklearn.pipeline import Pipeline\n",
    "from sklearn.preprocessing import MinMaxScaler, StandardScaler, Normalizer\n",
    "from sklearn.multiclass import OneVsRestClassifier\n",
    "from sklearn.svm import SVC\n",
    "from sklearn.model_selection import train_test_split, cross_val_score"
   ]
  },
  {
   "cell_type": "code",
   "execution_count": 3,
   "metadata": {},
   "outputs": [],
   "source": [
    "from xgboost import XGBClassifier"
   ]
  },
  {
   "cell_type": "code",
   "execution_count": 10,
   "metadata": {},
   "outputs": [],
   "source": [
    "from lightgbm import LGBMClassifier"
   ]
  },
  {
   "cell_type": "code",
   "execution_count": 11,
   "metadata": {},
   "outputs": [],
   "source": [
    "from sklearn.ensemble import RandomForestClassifier, AdaBoostClassifier"
   ]
  },
  {
   "cell_type": "code",
   "execution_count": null,
   "metadata": {},
   "outputs": [],
   "source": []
  },
  {
   "cell_type": "code",
   "execution_count": 74,
   "metadata": {},
   "outputs": [],
   "source": [
    "train = pd.read_csv(\"dataset/train.csv\")\n",
    "test = pd.read_csv(\"dataset/test.csv\")\n",
    "\n"
   ]
  },
  {
   "cell_type": "code",
   "execution_count": 75,
   "metadata": {},
   "outputs": [
    {
     "data": {
      "text/html": [
       "<div>\n",
       "<style scoped>\n",
       "    .dataframe tbody tr th:only-of-type {\n",
       "        vertical-align: middle;\n",
       "    }\n",
       "\n",
       "    .dataframe tbody tr th {\n",
       "        vertical-align: top;\n",
       "    }\n",
       "\n",
       "    .dataframe thead th {\n",
       "        text-align: right;\n",
       "    }\n",
       "</style>\n",
       "<table border=\"1\" class=\"dataframe\">\n",
       "  <thead>\n",
       "    <tr style=\"text-align: right;\">\n",
       "      <th></th>\n",
       "      <th>ID</th>\n",
       "      <th>Prediction</th>\n",
       "    </tr>\n",
       "  </thead>\n",
       "  <tbody>\n",
       "    <tr>\n",
       "      <th>0</th>\n",
       "      <td>user0x410</td>\n",
       "      <td>1</td>\n",
       "    </tr>\n",
       "    <tr>\n",
       "      <th>1</th>\n",
       "      <td>user0x432</td>\n",
       "      <td>1</td>\n",
       "    </tr>\n",
       "    <tr>\n",
       "      <th>2</th>\n",
       "      <td>user0x16a3</td>\n",
       "      <td>1</td>\n",
       "    </tr>\n",
       "    <tr>\n",
       "      <th>3</th>\n",
       "      <td>user0x1ad1</td>\n",
       "      <td>1</td>\n",
       "    </tr>\n",
       "    <tr>\n",
       "      <th>4</th>\n",
       "      <td>user0x174d</td>\n",
       "      <td>0</td>\n",
       "    </tr>\n",
       "  </tbody>\n",
       "</table>\n",
       "</div>"
      ],
      "text/plain": [
       "           ID  Prediction\n",
       "0   user0x410           1\n",
       "1   user0x432           1\n",
       "2  user0x16a3           1\n",
       "3  user0x1ad1           1\n",
       "4  user0x174d           0"
      ]
     },
     "execution_count": 75,
     "metadata": {},
     "output_type": "execute_result"
    }
   ],
   "source": [
    "train.head()"
   ]
  },
  {
   "cell_type": "code",
   "execution_count": 76,
   "metadata": {},
   "outputs": [],
   "source": [
    "def get_temp(text):\n",
    "    #print(text)\n",
    "    temp =  re.findall(\"\\d+\\.\\d+\",text)\n",
    "    if len(temp)> 0:\n",
    "        return temp[0]\n",
    "    else:\n",
    "        return None"
   ]
  },
  {
   "cell_type": "code",
   "execution_count": 77,
   "metadata": {},
   "outputs": [],
   "source": [
    "def get_data(filename):\n",
    "    b = json.load(open(\"dataset/trainConversations/\"+filename+\".json\"))\n",
    "    if 'What Symptoms do you have? ' == list(b.keys())[3]:\n",
    "        text = list(b.values())[0] + list(b.keys())[1] + list(b.values())[1]\n",
    "        temp =  get_temp(list(b.values())[2])\n",
    "        symp = None\n",
    "        tr_type = list(b.values())[4]\n",
    "        loc = None\n",
    "    elif \"Share your Current location? \" not in b:\n",
    "        text = list(b.values())[0] + list(b.keys())[1]\n",
    "        temp =  get_temp(list(b.keys())[2])\n",
    "        symp = list(b.keys())[3]\n",
    "        tr_type = list(b.keys())[4]\n",
    "        loc = None\n",
    "    else:\n",
    "        text = list(b.values())[0] \n",
    "        temp =  get_temp(list(b.values())[1])\n",
    "        symp = list(b.values())[2]\n",
    "        tr_type = list(b.values())[3]\n",
    "        loc = re.findall(\"\\d+\\.\\d+\",list(b.values())[4])\n",
    "\n",
    "        \n",
    "    return pd.Series([text,temp,symp,tr_type,loc])"
   ]
  },
  {
   "cell_type": "code",
   "execution_count": 78,
   "metadata": {},
   "outputs": [],
   "source": [
    "def get_data1(filename):\n",
    "    b = json.load(open(\"dataset/testConversations/\"+filename+\".json\"))\n",
    "    if 'What Symptoms do you have? ' == list(b.keys())[3]:\n",
    "        text = list(b.values())[0] + list(b.keys())[1] + list(b.values())[1]\n",
    "        temp =  get_temp(list(b.values())[2])\n",
    "        symp = None\n",
    "        tr_type = list(b.values())[4]\n",
    "        loc = None\n",
    "    elif \"Share your Current location? \" not in b:\n",
    "        text = list(b.values())[0] + list(b.keys())[1]\n",
    "        temp =  get_temp(list(b.keys())[2])\n",
    "        symp = list(b.keys())[3]\n",
    "        tr_type = list(b.keys())[4]\n",
    "        loc = None\n",
    "    else:\n",
    "        text = list(b.values())[0] \n",
    "        temp =  get_temp(list(b.values())[1])\n",
    "        symp = list(b.values())[2]\n",
    "        tr_type = list(b.values())[3]\n",
    "        loc = re.findall(\"\\d+\\.\\d+\",list(b.values())[4])\n",
    "\n",
    "        \n",
    "    return pd.Series([text,temp,symp,tr_type,loc])"
   ]
  },
  {
   "cell_type": "code",
   "execution_count": 99,
   "metadata": {},
   "outputs": [],
   "source": [
    "train[['text','temp','symp','tr_type','location']] = train.ID.apply(get_data)\n",
    "test[['text','temp','symp','tr_type','location']] = test.ID.apply(get_data1)"
   ]
  },
  {
   "cell_type": "code",
   "execution_count": 100,
   "metadata": {},
   "outputs": [
    {
     "data": {
      "text/html": [
       "<div>\n",
       "<style scoped>\n",
       "    .dataframe tbody tr th:only-of-type {\n",
       "        vertical-align: middle;\n",
       "    }\n",
       "\n",
       "    .dataframe tbody tr th {\n",
       "        vertical-align: top;\n",
       "    }\n",
       "\n",
       "    .dataframe thead th {\n",
       "        text-align: right;\n",
       "    }\n",
       "</style>\n",
       "<table border=\"1\" class=\"dataframe\">\n",
       "  <thead>\n",
       "    <tr style=\"text-align: right;\">\n",
       "      <th></th>\n",
       "      <th>ID</th>\n",
       "      <th>Prediction</th>\n",
       "      <th>text</th>\n",
       "      <th>temp</th>\n",
       "      <th>symp</th>\n",
       "      <th>tr_type</th>\n",
       "      <th>location</th>\n",
       "    </tr>\n",
       "  </thead>\n",
       "  <tbody>\n",
       "    <tr>\n",
       "      <th>4895</th>\n",
       "      <td>user0x389</td>\n",
       "      <td>0</td>\n",
       "      <td>What started the virus? Search for Covid19 cau...</td>\n",
       "      <td>98.42</td>\n",
       "      <td>Nothing</td>\n",
       "      <td>type_2</td>\n",
       "      <td>[13.73, 93.87]</td>\n",
       "    </tr>\n",
       "    <tr>\n",
       "      <th>4896</th>\n",
       "      <td>user0x1448</td>\n",
       "      <td>0</td>\n",
       "      <td>Is there a flu vaccine for the virus How did c...</td>\n",
       "      <td>96.72</td>\n",
       "      <td>Nothing</td>\n",
       "      <td>type_1</td>\n",
       "      <td>[17.62, 76.96]</td>\n",
       "    </tr>\n",
       "    <tr>\n",
       "      <th>4897</th>\n",
       "      <td>user0xf8c</td>\n",
       "      <td>0</td>\n",
       "      <td>I am wondering do I have Corona if my body hur...</td>\n",
       "      <td>98.05</td>\n",
       "      <td>Nothing</td>\n",
       "      <td>type_1</td>\n",
       "      <td>[14.84, 78.09]</td>\n",
       "    </tr>\n",
       "    <tr>\n",
       "      <th>4898</th>\n",
       "      <td>user0xeb</td>\n",
       "      <td>1</td>\n",
       "      <td>Do you know if fevers are symptoms of Covid-19...</td>\n",
       "      <td>99.72</td>\n",
       "      <td>loss_of_smell</td>\n",
       "      <td>type_2</td>\n",
       "      <td>[20.4, 91.62]</td>\n",
       "    </tr>\n",
       "    <tr>\n",
       "      <th>4899</th>\n",
       "      <td>user0x1425</td>\n",
       "      <td>0</td>\n",
       "      <td>Can you show me how is the virus spreading? Wh...</td>\n",
       "      <td>97.36</td>\n",
       "      <td>None</td>\n",
       "      <td>type_1</td>\n",
       "      <td>None</td>\n",
       "    </tr>\n",
       "  </tbody>\n",
       "</table>\n",
       "</div>"
      ],
      "text/plain": [
       "              ID  Prediction  \\\n",
       "4895   user0x389           0   \n",
       "4896  user0x1448           0   \n",
       "4897   user0xf8c           0   \n",
       "4898    user0xeb           1   \n",
       "4899  user0x1425           0   \n",
       "\n",
       "                                                   text   temp           symp  \\\n",
       "4895  What started the virus? Search for Covid19 cau...  98.42        Nothing   \n",
       "4896  Is there a flu vaccine for the virus How did c...  96.72        Nothing   \n",
       "4897  I am wondering do I have Corona if my body hur...  98.05        Nothing   \n",
       "4898  Do you know if fevers are symptoms of Covid-19...  99.72  loss_of_smell   \n",
       "4899  Can you show me how is the virus spreading? Wh...  97.36           None   \n",
       "\n",
       "     tr_type        location  \n",
       "4895  type_2  [13.73, 93.87]  \n",
       "4896  type_1  [17.62, 76.96]  \n",
       "4897  type_1  [14.84, 78.09]  \n",
       "4898  type_2   [20.4, 91.62]  \n",
       "4899  type_1            None  "
      ]
     },
     "execution_count": 100,
     "metadata": {},
     "output_type": "execute_result"
    }
   ],
   "source": [
    "train.tail()"
   ]
  },
  {
   "cell_type": "code",
   "execution_count": 101,
   "metadata": {},
   "outputs": [
    {
     "data": {
      "text/html": [
       "<div>\n",
       "<style scoped>\n",
       "    .dataframe tbody tr th:only-of-type {\n",
       "        vertical-align: middle;\n",
       "    }\n",
       "\n",
       "    .dataframe tbody tr th {\n",
       "        vertical-align: top;\n",
       "    }\n",
       "\n",
       "    .dataframe thead th {\n",
       "        text-align: right;\n",
       "    }\n",
       "</style>\n",
       "<table border=\"1\" class=\"dataframe\">\n",
       "  <thead>\n",
       "    <tr style=\"text-align: right;\">\n",
       "      <th></th>\n",
       "      <th>ID</th>\n",
       "      <th>text</th>\n",
       "      <th>temp</th>\n",
       "      <th>symp</th>\n",
       "      <th>tr_type</th>\n",
       "      <th>location</th>\n",
       "    </tr>\n",
       "  </thead>\n",
       "  <tbody>\n",
       "    <tr>\n",
       "      <th>2095</th>\n",
       "      <td>user0x1855</td>\n",
       "      <td>Is there a treatment for the symptoms of covid...</td>\n",
       "      <td>98.17</td>\n",
       "      <td>tiredness</td>\n",
       "      <td>type_3</td>\n",
       "      <td>[18.73, 72.45]</td>\n",
       "    </tr>\n",
       "    <tr>\n",
       "      <th>2096</th>\n",
       "      <td>user0x17a8</td>\n",
       "      <td>I feel more tired than usual. What is the orig...</td>\n",
       "      <td>101.91</td>\n",
       "      <td>tiredness', 'sore_throat</td>\n",
       "      <td>type_2</td>\n",
       "      <td>[19.84, 90.49]</td>\n",
       "    </tr>\n",
       "    <tr>\n",
       "      <th>2097</th>\n",
       "      <td>user0xac2</td>\n",
       "      <td>What do i need to know about the emergence of ...</td>\n",
       "      <td>100.74</td>\n",
       "      <td>loss_of_taste</td>\n",
       "      <td>type_3</td>\n",
       "      <td>[10.96, 91.62]</td>\n",
       "    </tr>\n",
       "    <tr>\n",
       "      <th>2098</th>\n",
       "      <td>user0x1648</td>\n",
       "      <td>Can I take aspirin if I have corona virus how ...</td>\n",
       "      <td>106.17</td>\n",
       "      <td>loss_of_taste', 'tiredness</td>\n",
       "      <td>type_1</td>\n",
       "      <td>[14.84, 90.49]</td>\n",
       "    </tr>\n",
       "    <tr>\n",
       "      <th>2099</th>\n",
       "      <td>user0x62b</td>\n",
       "      <td>Is it safe to use ibuprofen if I have corona v...</td>\n",
       "      <td>96.92</td>\n",
       "      <td>loss_of_taste</td>\n",
       "      <td>type_3</td>\n",
       "      <td>[13.73, 91.62]</td>\n",
       "    </tr>\n",
       "  </tbody>\n",
       "</table>\n",
       "</div>"
      ],
      "text/plain": [
       "              ID                                               text    temp  \\\n",
       "2095  user0x1855  Is there a treatment for the symptoms of covid...   98.17   \n",
       "2096  user0x17a8  I feel more tired than usual. What is the orig...  101.91   \n",
       "2097   user0xac2  What do i need to know about the emergence of ...  100.74   \n",
       "2098  user0x1648  Can I take aspirin if I have corona virus how ...  106.17   \n",
       "2099   user0x62b  Is it safe to use ibuprofen if I have corona v...   96.92   \n",
       "\n",
       "                            symp tr_type        location  \n",
       "2095                   tiredness  type_3  [18.73, 72.45]  \n",
       "2096    tiredness', 'sore_throat  type_2  [19.84, 90.49]  \n",
       "2097               loss_of_taste  type_3  [10.96, 91.62]  \n",
       "2098  loss_of_taste', 'tiredness  type_1  [14.84, 90.49]  \n",
       "2099               loss_of_taste  type_3  [13.73, 91.62]  "
      ]
     },
     "execution_count": 101,
     "metadata": {},
     "output_type": "execute_result"
    }
   ],
   "source": [
    "test.tail()"
   ]
  },
  {
   "cell_type": "code",
   "execution_count": 102,
   "metadata": {},
   "outputs": [],
   "source": [
    "train.temp = train.temp.astype('float')\n",
    "test.temp = test.temp.astype('float')"
   ]
  },
  {
   "cell_type": "code",
   "execution_count": 112,
   "metadata": {},
   "outputs": [
    {
     "data": {
      "text/plain": [
       "(4900, 7)"
      ]
     },
     "execution_count": 112,
     "metadata": {},
     "output_type": "execute_result"
    }
   ],
   "source": [
    "train.shape"
   ]
  },
  {
   "cell_type": "code",
   "execution_count": 107,
   "metadata": {},
   "outputs": [
    {
     "data": {
      "text/plain": [
       "ID             0\n",
       "Prediction     0\n",
       "text           0\n",
       "temp           0\n",
       "symp          60\n",
       "tr_type        0\n",
       "location      67\n",
       "dtype: int64"
      ]
     },
     "execution_count": 107,
     "metadata": {},
     "output_type": "execute_result"
    }
   ],
   "source": [
    "train.isna().sum()"
   ]
  },
  {
   "cell_type": "code",
   "execution_count": 108,
   "metadata": {},
   "outputs": [
    {
     "data": {
      "text/plain": [
       "ID           0\n",
       "text         0\n",
       "temp         1\n",
       "symp        33\n",
       "tr_type      0\n",
       "location    40\n",
       "dtype: int64"
      ]
     },
     "execution_count": 108,
     "metadata": {},
     "output_type": "execute_result"
    }
   ],
   "source": [
    "test.isna().sum()"
   ]
  },
  {
   "cell_type": "code",
   "execution_count": 109,
   "metadata": {},
   "outputs": [],
   "source": [
    "def clean_text(text):\n",
    "    if text:\n",
    "        return re.sub(r\"[^a-z ,]\",\"\",text.lower())\n",
    "    return None"
   ]
  },
  {
   "cell_type": "code",
   "execution_count": 110,
   "metadata": {},
   "outputs": [],
   "source": [
    "train.symp = train.symp.apply(clean_text)\n",
    "test.symp  = test.symp.apply(clean_text)"
   ]
  },
  {
   "cell_type": "code",
   "execution_count": null,
   "metadata": {},
   "outputs": [],
   "source": []
  },
  {
   "cell_type": "code",
   "execution_count": null,
   "metadata": {},
   "outputs": [],
   "source": []
  },
  {
   "cell_type": "code",
   "execution_count": 111,
   "metadata": {},
   "outputs": [],
   "source": [
    "# train.symp.fillna(\"\",inplace=True)\n",
    "# test.symp.fillna(\"\",inplace=True)"
   ]
  },
  {
   "cell_type": "markdown",
   "metadata": {},
   "source": [
    "### Predict Symptoms"
   ]
  },
  {
   "cell_type": "code",
   "execution_count": null,
   "metadata": {},
   "outputs": [],
   "source": []
  },
  {
   "cell_type": "code",
   "execution_count": 91,
   "metadata": {},
   "outputs": [],
   "source": [
    "tfidf = TfidfVectorizer()\n",
    "cnt = CountVectorizer()"
   ]
  },
  {
   "cell_type": "code",
   "execution_count": 92,
   "metadata": {},
   "outputs": [],
   "source": [
    "symp_vec = cnt.fit_transform(train.symp).toarray()\n",
    "test_symp_vec = cnt.transform(test.symp).toarray()"
   ]
  },
  {
   "cell_type": "code",
   "execution_count": 93,
   "metadata": {},
   "outputs": [],
   "source": [
    "train_vec = np.concatenate([symp_vec,np.array(train.temp.values.reshape(-1,1))],axis=1)"
   ]
  },
  {
   "cell_type": "code",
   "execution_count": 94,
   "metadata": {},
   "outputs": [],
   "source": [
    "test_vec = np.concatenate([test_symp_vec,np.array(test.temp.values.reshape(-1,1))],axis=1)"
   ]
  },
  {
   "cell_type": "code",
   "execution_count": 95,
   "metadata": {},
   "outputs": [],
   "source": [
    "mdl = RandomForestClassifier(class_weight=\"balanced\",n_estimators=500)"
   ]
  },
  {
   "cell_type": "code",
   "execution_count": 96,
   "metadata": {},
   "outputs": [],
   "source": [
    "xgb = XGBClassifier()\n",
    "lgb= LGBMClassifier()"
   ]
  },
  {
   "cell_type": "code",
   "execution_count": 97,
   "metadata": {},
   "outputs": [],
   "source": [
    "xgb_pipe = Pipeline(steps=[('scaler',StandardScaler()),\n",
    "                           ('mdl',xgb)])"
   ]
  },
  {
   "cell_type": "code",
   "execution_count": 98,
   "metadata": {},
   "outputs": [
    {
     "data": {
      "text/plain": [
       "array([0.96075778, 0.96098563, 0.95759234])"
      ]
     },
     "execution_count": 98,
     "metadata": {},
     "output_type": "execute_result"
    }
   ],
   "source": [
    "cross_val_score(xgb_pipe,train_vec,train.Prediction,cv=3,scoring='f1')"
   ]
  },
  {
   "cell_type": "code",
   "execution_count": null,
   "metadata": {},
   "outputs": [],
   "source": []
  },
  {
   "cell_type": "code",
   "execution_count": 53,
   "metadata": {},
   "outputs": [
    {
     "data": {
      "text/plain": [
       "Pipeline(steps=[('scaler', StandardScaler()),\n",
       "                ('mdl',\n",
       "                 XGBClassifier(base_score=0.5, booster=None,\n",
       "                               colsample_bylevel=1, colsample_bynode=1,\n",
       "                               colsample_bytree=1, gamma=0, gpu_id=-1,\n",
       "                               importance_type='gain',\n",
       "                               interaction_constraints=None,\n",
       "                               learning_rate=0.300000012, max_delta_step=0,\n",
       "                               max_depth=6, min_child_weight=1, missing=nan,\n",
       "                               monotone_constraints=None, n_estimators=100,\n",
       "                               n_jobs=0, num_parallel_tree=1, random_state=0,\n",
       "                               reg_alpha=0, reg_lambda=1, scale_pos_weight=1,\n",
       "                               subsample=1, tree_method=None,\n",
       "                               validate_parameters=False, verbosity=None))])"
      ]
     },
     "execution_count": 53,
     "metadata": {},
     "output_type": "execute_result"
    }
   ],
   "source": [
    "xgb_pipe.fit(train_vec,train.Prediction)"
   ]
  },
  {
   "cell_type": "raw",
   "metadata": {},
   "source": []
  },
  {
   "cell_type": "code",
   "execution_count": null,
   "metadata": {},
   "outputs": [],
   "source": []
  },
  {
   "cell_type": "code",
   "execution_count": 59,
   "metadata": {},
   "outputs": [],
   "source": [
    "yhat  = xgb_pipe.predict(test_vec)"
   ]
  },
  {
   "cell_type": "code",
   "execution_count": 60,
   "metadata": {},
   "outputs": [],
   "source": [
    "res = pd.DataFrame()"
   ]
  },
  {
   "cell_type": "code",
   "execution_count": 61,
   "metadata": {},
   "outputs": [],
   "source": [
    "res['ID'] = test.ID\n",
    "res['Prediction'] = yhat"
   ]
  },
  {
   "cell_type": "code",
   "execution_count": 62,
   "metadata": {},
   "outputs": [],
   "source": [
    "res.to_csv(\"XGBoost_base.csv\",index=False)"
   ]
  },
  {
   "cell_type": "code",
   "execution_count": null,
   "metadata": {},
   "outputs": [],
   "source": []
  }
 ],
 "metadata": {
  "kernelspec": {
   "display_name": "Python 3",
   "language": "python",
   "name": "python3"
  },
  "language_info": {
   "codemirror_mode": {
    "name": "ipython",
    "version": 3
   },
   "file_extension": ".py",
   "mimetype": "text/x-python",
   "name": "python",
   "nbconvert_exporter": "python",
   "pygments_lexer": "ipython3",
   "version": "3.7.6"
  }
 },
 "nbformat": 4,
 "nbformat_minor": 2
}
